{
 "cells": [
  {
   "cell_type": "markdown",
   "metadata": {},
   "source": [
    "<a name=top></a>\n",
    "<center>\n",
    "<h2>The Bell States</h2>\n",
    "</center>\n",
    "<p>\n",
    "\n"
   ]
  },
  {
   "cell_type": "markdown",
   "metadata": {},
   "source": [
    "<h2>Contents</h2>\n",
    "<ul>\n",
    "<li> <a href=\"#setup\">Setup Cell</a>\n",
    "<li> <a href=\"#one\">The four Bell states</a>\n",
    "<li> <a href=\"#entangled\">The Bell states are entangled</a>\n",
    "<li> <a href=\"#basis\">The Bell states are a basis</a>\n",
    "<li> <a href=\"#two\">Entangled pairs in the Bell states</a>\n",
    "<li> <a href=\"#three\">Bell basis measurement operator</a>\n",
    "</ul>"
   ]
  },
  {
   "cell_type": "markdown",
   "metadata": {},
   "source": [
    "<hr size=3>\n",
    "<a name=setup></a>\n",
    "<h2><a href=\"#top\">^</a> Setup Cell</h2>"
   ]
  },
  {
   "cell_type": "code",
   "execution_count": 4,
   "metadata": {},
   "outputs": [],
   "source": [
    "#%autosave 0\n",
    "#%matplotlib inline\n",
    "from qmlib2 import *"
   ]
  },
  {
   "cell_type": "markdown",
   "metadata": {},
   "source": [
    "<hr size=3>\n",
    "<a name=one></a>\n",
    "<h2><a href=\"#top\">^</a> The four Bell states</h2>"
   ]
  },
  {
   "cell_type": "markdown",
   "metadata": {},
   "source": [
    "Wikipedia choses a basis to define the Bell states as:\n",
    "<p>\n",
    "$|\\Phi^+\\rangle = \\frac{1}{\\sqrt{2}} (|0\\rangle_A \\otimes |0\\rangle_B + |1\\rangle_A \\otimes |1\\rangle_B)$\n",
    "\n",
    "$|\\Phi^-\\rangle = \\frac{1}{\\sqrt{2}} (|0\\rangle_A \\otimes |0\\rangle_B - |1\\rangle_A \\otimes |1\\rangle_B)$\n",
    "\n",
    "$|\\Psi^+\\rangle = \\frac{1}{\\sqrt{2}} (|0\\rangle_A \\otimes |1\\rangle_B + |1\\rangle_A \\otimes |0\\rangle_B)$\n",
    "\n",
    "$|\\Psi^-\\rangle = \\frac{1}{\\sqrt{2}} (|0\\rangle_A \\otimes |1\\rangle_B - |1\\rangle_A \\otimes |0\\rangle_B).$\n",
    "<p>\n",
    "See:\n",
    "http://en.wikipedia.org/wiki/Bell_basis#The_Bell_states"
   ]
  },
  {
   "cell_type": "markdown",
   "metadata": {},
   "source": [
    "\n",
    "\"pZ\" and \"mZ\" are shorthand for $|+z\\rangle$ and\n",
    "$|-z\\rangle$, and \"TP\" is the tensor product. So, for example, \n",
    "TP(pZ,pZ) is the tensor of two $+z$ states. This is the same as the tensor\n",
    "of two zero bits:\n",
    "<p>\n",
    "$$\n",
    "TP(pZ,pZ) = |+z\\rangle \\otimes |+z\\rangle = |00\\rangle\n",
    "$$"
   ]
  },
  {
   "cell_type": "code",
   "execution_count": 5,
   "metadata": {},
   "outputs": [
    {
     "data": {
      "text/html": [
       "<font size=4>$\\phi^+ = \\frac{1}{\\sqrt{2}}|00\\rangle+\\frac{1}{\\sqrt{2}}|11\\rangle$</font>"
      ],
      "text/plain": [
       "<IPython.core.display.HTML object>"
      ]
     },
     "metadata": {},
     "output_type": "display_data"
    },
    {
     "data": {
      "text/html": [
       "<font size=4>$\\phi^- = \\frac{1}{\\sqrt{2}}|00\\rangle-\\frac{1}{\\sqrt{2}}|11\\rangle$</font>"
      ],
      "text/plain": [
       "<IPython.core.display.HTML object>"
      ]
     },
     "metadata": {},
     "output_type": "display_data"
    },
    {
     "data": {
      "text/html": [
       "<font size=4>$\\psi^+ = \\frac{1}{\\sqrt{2}}|01\\rangle+\\frac{1}{\\sqrt{2}}|10\\rangle$</font>"
      ],
      "text/plain": [
       "<IPython.core.display.HTML object>"
      ]
     },
     "metadata": {},
     "output_type": "display_data"
    },
    {
     "data": {
      "text/html": [
       "<font size=4>$\\psi^- = \\frac{1}{\\sqrt{2}}|01\\rangle-\\frac{1}{\\sqrt{2}}|10\\rangle$</font>"
      ],
      "text/plain": [
       "<IPython.core.display.HTML object>"
      ]
     },
     "metadata": {},
     "output_type": "display_data"
    }
   ],
   "source": [
    "#\n",
    "# Note: pZ = |+z> = |0>, mZ = |-z> = |1> \n",
    "#       TP() is short for Tensor Product\n",
    "#\n",
    "\n",
    "bell_1 = 1/sqrt(2)*TP(pZ,pZ) + 1/sqrt(2)*TP(mZ,mZ) # phi+\n",
    "bell_2 = 1/sqrt(2)*TP(pZ,pZ) - 1/sqrt(2)*TP(mZ,mZ) # phi-\n",
    "bell_3 = 1/sqrt(2)*TP(pZ,mZ) + 1/sqrt(2)*TP(mZ,pZ) # psi+ (Triplet)\n",
    "bell_4 = 1/sqrt(2)*TP(pZ,mZ) - 1/sqrt(2)*TP(mZ,pZ) # psi- (Singlet)\n",
    "\n",
    "# sg_format_state() creates a formatter. We are telling it that\n",
    "# we want the \"basis states\" for the formatter to be \"0\" and \"1\"\n",
    "fs = sg_format_state(basis=['0','1'], separator='').format\n",
    "# Then we use the formatter to print the states in a \"nice\" way.\n",
    "Print(r'$\\phi^+ = %s$' %fs(bell_1))\n",
    "Print(r'$\\phi^- = %s$' %fs(bell_2))\n",
    "Print(r'$\\psi^+ = %s$' %fs(bell_3))\n",
    "Print(r'$\\psi^- = %s$' %fs(bell_4))"
   ]
  },
  {
   "cell_type": "code",
   "execution_count": 6,
   "metadata": {},
   "outputs": [
    {
     "data": {
      "text/html": [
       "<font size=4>$\\phi^+ = \\frac{1}{\\sqrt{2}}|+z,+z\\rangle+\\frac{1}{\\sqrt{2}}|-z,-z\\rangle$</font>"
      ],
      "text/plain": [
       "<IPython.core.display.HTML object>"
      ]
     },
     "metadata": {},
     "output_type": "display_data"
    },
    {
     "data": {
      "text/html": [
       "<font size=4>$\\phi^- = \\frac{1}{\\sqrt{2}}|+z,+z\\rangle-\\frac{1}{\\sqrt{2}}|-z,-z\\rangle$</font>"
      ],
      "text/plain": [
       "<IPython.core.display.HTML object>"
      ]
     },
     "metadata": {},
     "output_type": "display_data"
    },
    {
     "data": {
      "text/html": [
       "<font size=4>$\\psi^+ = \\frac{1}{\\sqrt{2}}|+z,-z\\rangle+\\frac{1}{\\sqrt{2}}|-z,+z\\rangle$</font>"
      ],
      "text/plain": [
       "<IPython.core.display.HTML object>"
      ]
     },
     "metadata": {},
     "output_type": "display_data"
    },
    {
     "data": {
      "text/html": [
       "<font size=4>$\\psi^- = \\frac{1}{\\sqrt{2}}|+z,-z\\rangle-\\frac{1}{\\sqrt{2}}|-z,+z\\rangle$</font>"
      ],
      "text/plain": [
       "<IPython.core.display.HTML object>"
      ]
     },
     "metadata": {},
     "output_type": "display_data"
    }
   ],
   "source": [
    "# If we wanted to look at these as electron spins rather than\n",
    "# qbits, we could format them like this:\n",
    "fs = sg_format_state(basis=['+z','-z'], separator=',').format\n",
    "Print(r'$\\phi^+ = %s$' %fs(bell_1))\n",
    "Print(r'$\\phi^- = %s$' %fs(bell_2))\n",
    "Print(r'$\\psi^+ = %s$' %fs(bell_3))\n",
    "Print(r'$\\psi^- = %s$' %fs(bell_4))"
   ]
  },
  {
   "cell_type": "code",
   "execution_count": 7,
   "metadata": {},
   "outputs": [
    {
     "data": {
      "text/html": [
       "<font size=4>$\\phi^+ = \\frac{1}{\\sqrt{2}}|HH\\rangle+\\frac{1}{\\sqrt{2}}|TT\\rangle$</font>"
      ],
      "text/plain": [
       "<IPython.core.display.HTML object>"
      ]
     },
     "metadata": {},
     "output_type": "display_data"
    },
    {
     "data": {
      "text/html": [
       "<font size=4>$\\phi^- = \\frac{1}{\\sqrt{2}}|HH\\rangle-\\frac{1}{\\sqrt{2}}|TT\\rangle$</font>"
      ],
      "text/plain": [
       "<IPython.core.display.HTML object>"
      ]
     },
     "metadata": {},
     "output_type": "display_data"
    },
    {
     "data": {
      "text/html": [
       "<font size=4>$\\psi^+ = \\frac{1}{\\sqrt{2}}|HT\\rangle+\\frac{1}{\\sqrt{2}}|TH\\rangle$</font>"
      ],
      "text/plain": [
       "<IPython.core.display.HTML object>"
      ]
     },
     "metadata": {},
     "output_type": "display_data"
    },
    {
     "data": {
      "text/html": [
       "<font size=4>$\\psi^- = \\frac{1}{\\sqrt{2}}|HT\\rangle-\\frac{1}{\\sqrt{2}}|TH\\rangle$</font>"
      ],
      "text/plain": [
       "<IPython.core.display.HTML object>"
      ]
     },
     "metadata": {},
     "output_type": "display_data"
    }
   ],
   "source": [
    "# Or if we wanted \"heads\" and \"tails\" ...\n",
    "fs = sg_format_state(basis=['H','T'], separator='').format\n",
    "Print(r'$\\phi^+ = %s$' %fs(bell_1))\n",
    "Print(r'$\\phi^- = %s$' %fs(bell_2))\n",
    "Print(r'$\\psi^+ = %s$' %fs(bell_3))\n",
    "Print(r'$\\psi^- = %s$' %fs(bell_4))"
   ]
  },
  {
   "cell_type": "markdown",
   "metadata": {},
   "source": [
    "<hr size=3>\n",
    "<a name=entangled></a>\n",
    "<h2><a href=\"#top\">^</a> The Bell states are entangled</h2>"
   ]
  },
  {
   "cell_type": "markdown",
   "metadata": {},
   "source": [
    "The Bell states are all entangled states. There are two ways to see this.\n",
    "<br><br>\n",
    "(1) You should be able to see that there will be a correlation between the\n",
    "measurements of the two bits. There correlations are different for the different states. But if you know the result of measuring one bit, you automatically know what the result of measuring the other bit will be.\n",
    "This can only happen with entangled states. If two systems are not entangled, then measuring one of the reveals no information about the other one. In fact, since measuring one bit <i>completely</i> determines\n",
    "the outcome for the other bit, these states are called <i>maximally\n",
    "entangled</i>.\n",
    "<br><br>\n",
    "(2) Mathematically, you can see that they are entangled by the\n",
    "fact that\n",
    "they can't be factored. <i>Product states</i> (non-entangled states) can\n",
    "always be factored."
   ]
  },
  {
   "cell_type": "markdown",
   "metadata": {},
   "source": [
    "<hr size=3>\n",
    "<a name=basis></a>\n",
    "<h2><a href=\"#top\">^</a> The Bell states form an orthonormal basis</h2>\n",
    "<p>\n",
    "The four Bell states form an <i>orthonormal basis</i> for the \"two bit\"\n",
    "vector space.\n",
    "<br><br>\n",
    "Any system consisting of two qbits can be represented as a column vector\n",
    "with four components. Since the vectors that live in this space have 4\n",
    "components, the space has a <i>dimension</i> of 4 and it takes exactly\n",
    "4 vectors to form a basis for the state. (See section 1.8 of the notes.)\n",
    "Usually, we like to have an <i>orthonormal basis</i>. (See section 1.12.)\n",
    "<br><br>\n",
    "We'll now show that the four Bell states form an orthonormal basis"
   ]
  },
  {
   "cell_type": "code",
   "execution_count": 8,
   "metadata": {},
   "outputs": [
    {
     "data": {
      "text/html": [
       "<font size=4>$\\langle$Bell$_{1}|$Bell$_{1}\\rangle=1$, $\\langle$Bell$_{1}|$Bell$_{2}\\rangle=0$, $\\langle$Bell$_{1}|$Bell$_{3}\\rangle=0$, $\\langle$Bell$_{1}|$Bell$_{4}\\rangle=0$</font>"
      ],
      "text/plain": [
       "<IPython.core.display.HTML object>"
      ]
     },
     "metadata": {},
     "output_type": "display_data"
    },
    {
     "data": {
      "text/html": [
       "<font size=4>$\\langle$Bell$_{2}|$Bell$_{1}\\rangle=0$, $\\langle$Bell$_{2}|$Bell$_{2}\\rangle=1$, $\\langle$Bell$_{2}|$Bell$_{3}\\rangle=0$, $\\langle$Bell$_{2}|$Bell$_{4}\\rangle=0$</font>"
      ],
      "text/plain": [
       "<IPython.core.display.HTML object>"
      ]
     },
     "metadata": {},
     "output_type": "display_data"
    },
    {
     "data": {
      "text/html": [
       "<font size=4>$\\langle$Bell$_{3}|$Bell$_{1}\\rangle=0$, $\\langle$Bell$_{3}|$Bell$_{2}\\rangle=0$, $\\langle$Bell$_{3}|$Bell$_{3}\\rangle=1$, $\\langle$Bell$_{3}|$Bell$_{4}\\rangle=0$</font>"
      ],
      "text/plain": [
       "<IPython.core.display.HTML object>"
      ]
     },
     "metadata": {},
     "output_type": "display_data"
    },
    {
     "data": {
      "text/html": [
       "<font size=4>$\\langle$Bell$_{4}|$Bell$_{1}\\rangle=0$, $\\langle$Bell$_{4}|$Bell$_{2}\\rangle=0$, $\\langle$Bell$_{4}|$Bell$_{3}\\rangle=0$, $\\langle$Bell$_{4}|$Bell$_{4}\\rangle=1$</font>"
      ],
      "text/plain": [
       "<IPython.core.display.HTML object>"
      ]
     },
     "metadata": {},
     "output_type": "display_data"
    }
   ],
   "source": [
    "bell_states = [bell_1, bell_2, bell_3, bell_4]\n",
    "for m in range(4):\n",
    "    string = ''\n",
    "    for n in range(4):\n",
    "        result = inner_product(bell_states[m],bell_states[n])\n",
    "        if string != '': string += ', '\n",
    "        string += r'$\\langle$Bell$_{%s}|$Bell$_{%s}\\rangle=%s$'\\\n",
    "        %(m+1,n+1,result)\n",
    "    Print(string)"
   ]
  },
  {
   "cell_type": "markdown",
   "metadata": {},
   "source": [
    "What the four lines above show is that:\n",
    "* Each Bell state has a length of 1 (it's normalized)\n",
    "* Each Bell state is orthogonal to the other three\n"
   ]
  },
  {
   "cell_type": "markdown",
   "metadata": {},
   "source": [
    "<hr size=3>\n",
    "<a name=two></a>\n",
    "<h2><a href=\"#top\">^</a> Entangled pairs in the Bell states</h2>\n",
    "<p>\n",
    "Suppose that there\n",
    "are two electrons (for example) whose spin states are entangled in\n",
    "one of the Bell states.\n",
    "We work out the correlations for that situation.\n",
    "<p>"
   ]
  },
  {
   "cell_type": "code",
   "execution_count": 9,
   "metadata": {
    "scrolled": true
   },
   "outputs": [
    {
     "data": {
      "text/html": [
       "<font size=4><hr size=4></font>"
      ],
      "text/plain": [
       "<IPython.core.display.HTML object>"
      ]
     },
     "metadata": {},
     "output_type": "display_data"
    },
    {
     "data": {
      "text/html": [
       "<font size=4>For Bell 1</font>"
      ],
      "text/plain": [
       "<IPython.core.display.HTML object>"
      ]
     },
     "metadata": {},
     "output_type": "display_data"
    },
    {
     "data": {
      "text/html": [
       "<font size=4>In the Z basis we have $\\frac{1}{\\sqrt{2}}|+z,+z\\rangle+\\frac{1}{\\sqrt{2}}|-z,-z\\rangle$</font>"
      ],
      "text/plain": [
       "<IPython.core.display.HTML object>"
      ]
     },
     "metadata": {},
     "output_type": "display_data"
    },
    {
     "data": {
      "text/html": [
       "<font size=4>In the X basis we have: $\\frac{1}{\\sqrt{2}}|+x,+x\\rangle+\\frac{1}{\\sqrt{2}}|-x,-x\\rangle$</font>"
      ],
      "text/plain": [
       "<IPython.core.display.HTML object>"
      ]
     },
     "metadata": {},
     "output_type": "display_data"
    },
    {
     "data": {
      "text/html": [
       "<font size=4>In the $45^{\\circ}$ basis we have: $\\frac{1}{\\sqrt{2}}|+45,+45\\rangle+\\frac{1}{\\sqrt{2}}|-45,-45\\rangle$</font>"
      ],
      "text/plain": [
       "<IPython.core.display.HTML object>"
      ]
     },
     "metadata": {},
     "output_type": "display_data"
    },
    {
     "data": {
      "text/html": [
       "<font size=4><hr size=4></font>"
      ],
      "text/plain": [
       "<IPython.core.display.HTML object>"
      ]
     },
     "metadata": {},
     "output_type": "display_data"
    },
    {
     "data": {
      "text/html": [
       "<font size=4>For Bell 2</font>"
      ],
      "text/plain": [
       "<IPython.core.display.HTML object>"
      ]
     },
     "metadata": {},
     "output_type": "display_data"
    },
    {
     "data": {
      "text/html": [
       "<font size=4>In the Z basis we have $\\frac{1}{\\sqrt{2}}|+z,+z\\rangle-\\frac{1}{\\sqrt{2}}|-z,-z\\rangle$</font>"
      ],
      "text/plain": [
       "<IPython.core.display.HTML object>"
      ]
     },
     "metadata": {},
     "output_type": "display_data"
    },
    {
     "data": {
      "text/html": [
       "<font size=4>In the X basis we have: $\\frac{1}{\\sqrt{2}}|+x,-x\\rangle+\\frac{1}{\\sqrt{2}}|-x,+x\\rangle$</font>"
      ],
      "text/plain": [
       "<IPython.core.display.HTML object>"
      ]
     },
     "metadata": {},
     "output_type": "display_data"
    },
    {
     "data": {
      "text/html": [
       "<font size=4>In the $45^{\\circ}$ basis we have: $\\frac{1}{2}|+45,+45\\rangle-\\frac{1}{2}|+45,-45\\rangle-\\frac{1}{2}|-45,+45\\rangle-\\frac{1}{2}|-45,-45\\rangle$</font>"
      ],
      "text/plain": [
       "<IPython.core.display.HTML object>"
      ]
     },
     "metadata": {},
     "output_type": "display_data"
    },
    {
     "data": {
      "text/html": [
       "<font size=4><hr size=4></font>"
      ],
      "text/plain": [
       "<IPython.core.display.HTML object>"
      ]
     },
     "metadata": {},
     "output_type": "display_data"
    },
    {
     "data": {
      "text/html": [
       "<font size=4>For Bell 3</font>"
      ],
      "text/plain": [
       "<IPython.core.display.HTML object>"
      ]
     },
     "metadata": {},
     "output_type": "display_data"
    },
    {
     "data": {
      "text/html": [
       "<font size=4>In the Z basis we have $\\frac{1}{\\sqrt{2}}|+z,-z\\rangle+\\frac{1}{\\sqrt{2}}|-z,+z\\rangle$</font>"
      ],
      "text/plain": [
       "<IPython.core.display.HTML object>"
      ]
     },
     "metadata": {},
     "output_type": "display_data"
    },
    {
     "data": {
      "text/html": [
       "<font size=4>In the X basis we have: $\\frac{1}{\\sqrt{2}}|+x,+x\\rangle-\\frac{1}{\\sqrt{2}}|-x,-x\\rangle$</font>"
      ],
      "text/plain": [
       "<IPython.core.display.HTML object>"
      ]
     },
     "metadata": {},
     "output_type": "display_data"
    },
    {
     "data": {
      "text/html": [
       "<font size=4>In the $45^{\\circ}$ basis we have: $\\frac{1}{2}|+45,+45\\rangle+\\frac{- \\frac{\\sqrt{- 7 \\sqrt{2} + 10}}{4} + \\frac{\\sqrt{- 2 \\sqrt{2} + 4} \\left(\\sqrt{2} + 2\\right)}{8}}{\\sqrt{- \\sqrt{2} + 2}}|+45,-45\\rangle+\\frac{- \\frac{\\sqrt{- 7 \\sqrt{2} + 10}}{4} + \\frac{\\sqrt{- 2 \\sqrt{2} + 4} \\left(\\sqrt{2} + 2\\right)}{8}}{\\sqrt{- \\sqrt{2} + 2}}|-45,+45\\rangle-\\frac{1}{2}|-45,-45\\rangle$</font>"
      ],
      "text/plain": [
       "<IPython.core.display.HTML object>"
      ]
     },
     "metadata": {},
     "output_type": "display_data"
    },
    {
     "data": {
      "text/html": [
       "<font size=4><hr size=4></font>"
      ],
      "text/plain": [
       "<IPython.core.display.HTML object>"
      ]
     },
     "metadata": {},
     "output_type": "display_data"
    },
    {
     "data": {
      "text/html": [
       "<font size=4>For Bell 4</font>"
      ],
      "text/plain": [
       "<IPython.core.display.HTML object>"
      ]
     },
     "metadata": {},
     "output_type": "display_data"
    },
    {
     "data": {
      "text/html": [
       "<font size=4>In the Z basis we have $\\frac{1}{\\sqrt{2}}|+z,-z\\rangle-\\frac{1}{\\sqrt{2}}|-z,+z\\rangle$</font>"
      ],
      "text/plain": [
       "<IPython.core.display.HTML object>"
      ]
     },
     "metadata": {},
     "output_type": "display_data"
    },
    {
     "data": {
      "text/html": [
       "<font size=4>In the X basis we have: $-\\frac{1}{\\sqrt{2}}|+x,-x\\rangle+\\frac{1}{\\sqrt{2}}|-x,+x\\rangle$</font>"
      ],
      "text/plain": [
       "<IPython.core.display.HTML object>"
      ]
     },
     "metadata": {},
     "output_type": "display_data"
    },
    {
     "data": {
      "text/html": [
       "<font size=4>In the $45^{\\circ}$ basis we have: $\\frac{\\frac{\\sqrt{- 7 \\sqrt{2} + 10}}{4} + \\frac{\\sqrt{- 2 \\sqrt{2} + 4} \\left(\\sqrt{2} + 2\\right)}{8}}{\\sqrt{- \\sqrt{2} + 2}}|+45,-45\\rangle-\\frac{\\frac{\\sqrt{- 7 \\sqrt{2} + 10}}{4} + \\frac{\\sqrt{- 2 \\sqrt{2} + 4} \\left(\\sqrt{2} + 2\\right)}{8}}{\\sqrt{- \\sqrt{2} + 2}}|-45,+45\\rangle$</font>"
      ],
      "text/plain": [
       "<IPython.core.display.HTML object>"
      ]
     },
     "metadata": {},
     "output_type": "display_data"
    }
   ],
   "source": [
    "# Put all the bell states in an array\n",
    "bell = [bell_1, bell_2, bell_3, bell_4]\n",
    "# Define format for the different bases\n",
    "fz = sg_format_state(basis=['+z','-z'], separator=',').format\n",
    "fx = sg_format_state(basis=['+x','-x'], separator=',').format\n",
    "f45 = sg_format_state(basis=['+45','-45'], separator=',').format\n",
    "\n",
    "def work_out_stuff(which):\n",
    "    Print('<hr size=4>')\n",
    "    Print('For Bell %s'%(which+1))\n",
    "    z_state = bell[which]\n",
    "    Print('In the Z basis we have $%s$'%fz(z_state))\n",
    "\n",
    "    IP = inner_product\n",
    "    xb = x_basis_2bit\n",
    "    a = IP(xb[0], z_state)\n",
    "    b = IP(xb[1], z_state)\n",
    "    c = IP(xb[2], z_state)\n",
    "    d = IP(xb[3], z_state)\n",
    "    x_state = col(a,b,c,d)\n",
    "\n",
    "    Print('In the X basis we have: $%s$'%fx(x_state))\n",
    "\n",
    "    # Measurement matrix for the vector halfway between x and z\n",
    "    # See the electron spin notebook\n",
    "    M45 = 1/sqrt(2)*mat(1,1,1,-1)\n",
    "    #Print('The 45 degree operator is: $%s$'%myltx(M45))\n",
    "\n",
    "    eval, evec = find_eigenvectors(M45)\n",
    "    m45 = evec[0]; p45 = evec[1]\n",
    "\n",
    "    b45 = []\n",
    "    b45 += [ TP(p45, p45), ]\n",
    "    b45 += [ TP(p45, m45), ]\n",
    "    b45 += [ TP(m45, p45), ]\n",
    "    b45 += [ TP(m45, m45), ]\n",
    "\n",
    "    a = IP(b45[0], z_state)\n",
    "    b = IP(b45[1], z_state)\n",
    "    c = IP(b45[2], z_state)\n",
    "    d = IP(b45[3], z_state)\n",
    "    state_45 = col(a,b,c,d)\n",
    "\n",
    "    # Do everything possible to simplify the state\n",
    "    state_45 = megasimp(state_45)\n",
    "\n",
    "    #Print('And in the 45 degree basis we have:')\n",
    "    #sg_print(state_45, exact=True, ndigs=4)\n",
    "    Print('In the $45^{\\circ}$ basis we have: $%s$'%f45(state_45))\n",
    "    \n",
    "for n in range(4): work_out_stuff(n)\n",
    "    \n",
    "# Do I need this ... ?\n",
    "#eflag = False\n",
    "#sg_print( IP(p45, pZ)*IP(p45, pZ).conjugate(), exact=eflag, ndigs=3)\n",
    "#sg_print( IP(p45, mZ)*IP(p45, mZ).conjugate(), exact=eflag, ndigs=3)\n",
    "#sg_print( IP(p45, pX)*IP(p45, pX).conjugate(), exact=eflag, ndigs=3)\n",
    "#sg_print( IP(p45, mX)*IP(p45, mX).conjugate(), exact=eflag, ndigs=3)"
   ]
  },
  {
   "cell_type": "markdown",
   "metadata": {},
   "source": [
    "<hr size=3>\n",
    "<a name=three></a>\n",
    "<h2><a href=\"#top\">^</a> Bell Basis Measurement Operator</h2>\n",
    "<p>\n"
   ]
  },
  {
   "cell_type": "code",
   "execution_count": 10,
   "metadata": {},
   "outputs": [
    {
     "data": {
      "text/html": [
       "<font size=4>The operator is: $\\left[\\begin{matrix}\\frac{3}{2} & 0 & 0 & - \\frac{1}{2}\\\\0 & \\frac{7}{2} & - \\frac{1}{2} & 0\\\\0 & - \\frac{1}{2} & \\frac{7}{2} & 0\\\\- \\frac{1}{2} & 0 & 0 & \\frac{3}{2}\\end{matrix}\\right]$</font>"
      ],
      "text/plain": [
       "<IPython.core.display.HTML object>"
      ]
     },
     "metadata": {},
     "output_type": "display_data"
    },
    {
     "data": {
      "text/html": [
       "<font size=4>eigenvalue: $1$, eigenvector: $\\frac{1}{\\sqrt{2}}\\left[\\begin{matrix}1\\\\0\\\\0\\\\1\\end{matrix}\\right]$</font>"
      ],
      "text/plain": [
       "<IPython.core.display.HTML object>"
      ]
     },
     "metadata": {},
     "output_type": "display_data"
    },
    {
     "data": {
      "text/html": [
       "<font size=4>eigenvalue: $2$, eigenvector: $\\frac{1}{\\sqrt{2}}\\left[\\begin{matrix}-1\\\\0\\\\0\\\\1\\end{matrix}\\right]$</font>"
      ],
      "text/plain": [
       "<IPython.core.display.HTML object>"
      ]
     },
     "metadata": {},
     "output_type": "display_data"
    },
    {
     "data": {
      "text/html": [
       "<font size=4>eigenvalue: $3$, eigenvector: $\\frac{1}{\\sqrt{2}}\\left[\\begin{matrix}0\\\\1\\\\1\\\\0\\end{matrix}\\right]$</font>"
      ],
      "text/plain": [
       "<IPython.core.display.HTML object>"
      ]
     },
     "metadata": {},
     "output_type": "display_data"
    },
    {
     "data": {
      "text/html": [
       "<font size=4>eigenvalue: $4$, eigenvector: $\\frac{1}{\\sqrt{2}}\\left[\\begin{matrix}0\\\\-1\\\\1\\\\0\\end{matrix}\\right]$</font>"
      ],
      "text/plain": [
       "<IPython.core.display.HTML object>"
      ]
     },
     "metadata": {},
     "output_type": "display_data"
    }
   ],
   "source": [
    "evals = (1, 2, 3, 4); evecs = (bell_1, bell_2, bell_3, bell_4)\n",
    "BBM = construct_observable_operator(evals, evecs)\n",
    "print_eigenvectors(BBM)"
   ]
  },
  {
   "cell_type": "markdown",
   "metadata": {},
   "source": [
    "<font size=3>\n",
    "<hr size=3>\n",
    "The operator produces the expected eigenvectors, except that the\n",
    "overall phase of the \"-\" states is different. \n",
    "<hr size=3>\n",
    "</font>"
   ]
  },
  {
   "cell_type": "code",
   "execution_count": 8,
   "metadata": {},
   "outputs": [
    {
     "data": {
      "text/html": [
       "<font size=4>Operator's eigenvectors:</font>"
      ],
      "text/plain": [
       "<IPython.core.display.HTML object>"
      ]
     },
     "metadata": {},
     "output_type": "display_data"
    },
    {
     "data": {
      "text/html": [
       "<font size=4>$\\frac{1}{\\sqrt{2}}\\left[\\begin{matrix}1\\\\0\\\\0\\\\1\\end{matrix}\\right], \\frac{1}{\\sqrt{2}}\\left[\\begin{matrix}-1\\\\0\\\\0\\\\1\\end{matrix}\\right], \\frac{1}{\\sqrt{2}}\\left[\\begin{matrix}0\\\\1\\\\1\\\\0\\end{matrix}\\right], \\frac{1}{\\sqrt{2}}\\left[\\begin{matrix}0\\\\-1\\\\1\\\\0\\end{matrix}\\right]$</font>"
      ],
      "text/plain": [
       "<IPython.core.display.HTML object>"
      ]
     },
     "metadata": {},
     "output_type": "display_data"
    },
    {
     "data": {
      "text/html": [
       "<font size=4>Bell states:</font>"
      ],
      "text/plain": [
       "<IPython.core.display.HTML object>"
      ]
     },
     "metadata": {},
     "output_type": "display_data"
    },
    {
     "data": {
      "text/html": [
       "<font size=4>$\\frac{1}{\\sqrt{2}}\\left[\\begin{matrix}1\\\\0\\\\0\\\\1\\end{matrix}\\right], \\frac{1}{\\sqrt{2}}\\left[\\begin{matrix}1\\\\0\\\\0\\\\-1\\end{matrix}\\right], \\frac{1}{\\sqrt{2}}\\left[\\begin{matrix}0\\\\1\\\\1\\\\0\\end{matrix}\\right], \\frac{1}{\\sqrt{2}}\\left[\\begin{matrix}0\\\\1\\\\-1\\\\0\\end{matrix}\\right]$</font>"
      ],
      "text/plain": [
       "<IPython.core.display.HTML object>"
      ]
     },
     "metadata": {},
     "output_type": "display_data"
    }
   ],
   "source": [
    "evals, evecs = find_eigenvectors(BBM)\n",
    "Print('Operator\\'s eigenvectors:')\n",
    "Print('$%s, %s, %s, %s$'\n",
    "      %(myltx(evecs[0]),myltx(evecs[1]),myltx(evecs[2]),myltx(evecs[3])))\n",
    "Print('Bell states:')\n",
    "Print('$%s, %s, %s, %s$'\n",
    "      %(myltx(bell_1),myltx(bell_2),myltx(bell_3),myltx(bell_4)))"
   ]
  },
  {
   "cell_type": "markdown",
   "metadata": {},
   "source": [
    "<font size=3>\n",
    "<hr size=3>\n",
    "Here they are as  bits.\n",
    "<hr size=3>\n",
    "</font>"
   ]
  },
  {
   "cell_type": "code",
   "execution_count": 9,
   "metadata": {},
   "outputs": [
    {
     "data": {
      "text/html": [
       "<font size=4>$\\phi^+ = \\frac{1}{\\sqrt{2}}|00\\rangle+\\frac{1}{\\sqrt{2}}|11\\rangle = \\frac{1}{\\sqrt{2}}|00\\rangle+\\frac{1}{\\sqrt{2}}|11\\rangle$</font>"
      ],
      "text/plain": [
       "<IPython.core.display.HTML object>"
      ]
     },
     "metadata": {},
     "output_type": "display_data"
    },
    {
     "data": {
      "text/html": [
       "<font size=4>$\\phi^- = \\frac{1}{\\sqrt{2}}|00\\rangle-\\frac{1}{\\sqrt{2}}|11\\rangle = -\\frac{1}{\\sqrt{2}}|00\\rangle+\\frac{1}{\\sqrt{2}}|11\\rangle$</font>"
      ],
      "text/plain": [
       "<IPython.core.display.HTML object>"
      ]
     },
     "metadata": {},
     "output_type": "display_data"
    },
    {
     "data": {
      "text/html": [
       "<font size=4>$\\psi^+ = \\frac{1}{\\sqrt{2}}|01\\rangle+\\frac{1}{\\sqrt{2}}|10\\rangle = \\frac{1}{\\sqrt{2}}|01\\rangle+\\frac{1}{\\sqrt{2}}|10\\rangle$</font>"
      ],
      "text/plain": [
       "<IPython.core.display.HTML object>"
      ]
     },
     "metadata": {},
     "output_type": "display_data"
    },
    {
     "data": {
      "text/html": [
       "<font size=4>$\\psi^- = \\frac{1}{\\sqrt{2}}|01\\rangle-\\frac{1}{\\sqrt{2}}|10\\rangle = -\\frac{1}{\\sqrt{2}}|01\\rangle+\\frac{1}{\\sqrt{2}}|10\\rangle$</font>"
      ],
      "text/plain": [
       "<IPython.core.display.HTML object>"
      ]
     },
     "metadata": {},
     "output_type": "display_data"
    }
   ],
   "source": [
    "fs = sg_format_state(basis=['0','1'], separator='').format\n",
    "Print(r'$\\phi^+ = %s = %s$' %(fs(bell_1), fs(evecs[0])))\n",
    "Print(r'$\\phi^- = %s = %s$' %(fs(bell_2), fs(evecs[1])))\n",
    "Print(r'$\\psi^+ = %s = %s$' %(fs(bell_3), fs(evecs[2])))\n",
    "Print(r'$\\psi^- = %s = %s$' %(fs(bell_4), fs(evecs[3])))"
   ]
  },
  {
   "cell_type": "code",
   "execution_count": 10,
   "metadata": {},
   "outputs": [
    {
     "data": {
      "text/html": [
       "<font size=4>$\\frac{1}{\\sqrt{2}}\\left[\\begin{matrix}1\\\\0\\\\0\\\\1\\end{matrix}\\right], \\frac{1}{\\sqrt{2}}\\left[\\begin{matrix}1\\\\0\\\\0\\\\1\\end{matrix}\\right], \\frac{1}{\\sqrt{2}}\\left[\\begin{matrix}1\\\\0\\\\0\\\\1\\end{matrix}\\right], \\frac{1}{\\sqrt{2}}\\left[\\begin{matrix}1\\\\0\\\\0\\\\1\\end{matrix}\\right]$</font>"
      ],
      "text/plain": [
       "<IPython.core.display.HTML object>"
      ]
     },
     "metadata": {},
     "output_type": "display_data"
    },
    {
     "data": {
      "text/html": [
       "<font size=4>$[1, 0, 0, 0]$</font>"
      ],
      "text/plain": [
       "<IPython.core.display.HTML object>"
      ]
     },
     "metadata": {},
     "output_type": "display_data"
    },
    {
     "data": {
      "text/html": [
       "<font size=4>$[0, 1, 0, 0]$</font>"
      ],
      "text/plain": [
       "<IPython.core.display.HTML object>"
      ]
     },
     "metadata": {},
     "output_type": "display_data"
    },
    {
     "data": {
      "text/html": [
       "<font size=4>$[0, 0, 1, 0]$</font>"
      ],
      "text/plain": [
       "<IPython.core.display.HTML object>"
      ]
     },
     "metadata": {},
     "output_type": "display_data"
    },
    {
     "data": {
      "text/html": [
       "<font size=4>$[0, 0, 0, 1]$</font>"
      ],
      "text/plain": [
       "<IPython.core.display.HTML object>"
      ]
     },
     "metadata": {},
     "output_type": "display_data"
    }
   ],
   "source": [
    "Print('$%s, %s, %s, %s$'\n",
    "      %(myltx(evecs[0]),myltx(evecs[0]),myltx(evecs[0]),myltx(evecs[0])))\n",
    "foo = analyze_measurement(BBM, bell_1)\n",
    "Print('$%s$'%foo)\n",
    "foo = analyze_measurement(BBM, bell_2)\n",
    "Print('$%s$'%foo)\n",
    "foo = analyze_measurement(BBM, bell_3)\n",
    "Print('$%s$'%foo)\n",
    "foo = analyze_measurement(BBM, bell_4)\n",
    "Print('$%s$'%foo)"
   ]
  },
  {
   "cell_type": "code",
   "execution_count": null,
   "metadata": {},
   "outputs": [],
   "source": []
  }
 ],
 "metadata": {
  "kernelspec": {
   "display_name": "Python 3",
   "language": "python",
   "name": "python3"
  },
  "language_info": {
   "codemirror_mode": {
    "name": "ipython",
    "version": 3
   },
   "file_extension": ".py",
   "mimetype": "text/x-python",
   "name": "python",
   "nbconvert_exporter": "python",
   "pygments_lexer": "ipython3",
   "version": "3.6.6"
  }
 },
 "nbformat": 4,
 "nbformat_minor": 2
}
